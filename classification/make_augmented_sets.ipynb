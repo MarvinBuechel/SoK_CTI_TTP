{
 "cells": [
  {
   "cell_type": "code",
   "execution_count": null,
   "metadata": {},
   "outputs": [],
   "source": [
    "import json\n",
    "\n",
    "with open(\"datasets/syn_sentence_list.json\", \"r\") as f:\n",
    "    artificial_data = json.load(f)\n",
    "\n",
    "len(artificial_data)"
   ]
  },
  {
   "cell_type": "code",
   "execution_count": null,
   "metadata": {},
   "outputs": [],
   "source": [
    "import pandas as pd\n",
    "from sklearn.model_selection import train_test_split\n",
    "\n",
    "test_size = 0.2\n",
    "random_state = 0\n",
    "\n",
    "tram_df = pd.read_json(\"datasets/tram_train.json\")\n",
    "df_train, df_val = train_test_split(tram_df, test_size=test_size, random_state=random_state)\n",
    "df_train.shape, df_val.shape"
   ]
  },
  {
   "cell_type": "code",
   "execution_count": null,
   "metadata": {},
   "outputs": [],
   "source": [
    "import loader\n",
    "\n",
    "model = loader.load_model_for_embedding(\"sentence-transformers/all-mpnet-base-v2\")"
   ]
  },
  {
   "cell_type": "code",
   "execution_count": null,
   "metadata": {},
   "outputs": [],
   "source": [
    "from collections import Counter\n",
    "\n",
    "# Flatten the list of labels and count the occurrences of each label\n",
    "label_counts = Counter(label for labels in tram_df['labels'] for label in labels)\n",
    "\n",
    "# Convert the counter to a DataFrame for better visualization\n",
    "label_distribution = pd.DataFrame.from_dict(label_counts, orient='index', columns=['count']).sort_values(by='count', ascending=False)\n",
    "print(label_distribution)"
   ]
  },
  {
   "cell_type": "markdown",
   "metadata": {},
   "source": [
    "## Synthetic Data (Rebalanced)"
   ]
  },
  {
   "cell_type": "code",
   "execution_count": null,
   "metadata": {},
   "outputs": [],
   "source": [
    "import numpy as np\n",
    "from tqdm import tqdm\n",
    "\n",
    "alpha = 0.3\n",
    "beta = 0.9\n",
    "\n",
    "artificial_data_selected = []\n",
    "\n",
    "for idx, row in tqdm(df_train.iterrows(), total=df_train.shape[0]):\n",
    "    sentence = row['sentence']\n",
    "    labels = row[\"labels\"]\n",
    "    sent_encoding = model.encode(sentence)\n",
    "    artificial_sent_w_labels = artificial_data.get(sentence, [])\n",
    "    augmented_sentences = [item['augmented_sentence'] for item in artificial_sent_w_labels]\n",
    "    artificial_sent_encoding = model.encode(augmented_sentences)\n",
    "    similarity = model.similarity(sent_encoding, artificial_sent_encoding)\n",
    "    \n",
    "    # Find indices where similarity is between alpha and beta\n",
    "    indices = np.where((similarity >= alpha) & (similarity <= beta))[1]\n",
    "    \n",
    "    # if no sentence matches criteria, skip it\n",
    "    if len(indices) < 1:\n",
    "        continue\n",
    "\n",
    "    # if sentence has no labels, then select a random sentence\n",
    "    if len(labels) == 0:\n",
    "        rand_idx = np.random.choice(indices)\n",
    "        artificial_data_selected.append(artificial_sent_w_labels[rand_idx])\n",
    "    else:\n",
    "        for idx in indices:\n",
    "            selected_sentence = artificial_sent_w_labels[idx]\n",
    "            artificial_data_selected.append(selected_sentence)"
   ]
  },
  {
   "cell_type": "code",
   "execution_count": null,
   "metadata": {},
   "outputs": [],
   "source": [
    "from collections import Counter\n",
    "\n",
    "# Get the index with the maximum similarity\n",
    "# Extract labels from artificial_data_selected\n",
    "selected_labels = [label for item in artificial_data_selected for label in item['labels']]\n",
    "\n",
    "# Count the occurrences of each label\n",
    "selected_label_counts = Counter(selected_labels)\n",
    "\n",
    "# Convert the counter to a DataFrame for better visualization\n",
    "selected_label_distribution = pd.DataFrame.from_dict(selected_label_counts, orient='index', columns=['count']).sort_values(by='count', ascending=False)\n",
    "print(selected_label_distribution)"
   ]
  },
  {
   "cell_type": "code",
   "execution_count": null,
   "metadata": {},
   "outputs": [],
   "source": [
    "import random\n",
    "\n",
    "artificial = {\n",
    "    \"sentence\": [],\n",
    "    \"labels\": []\n",
    "}\n",
    "\n",
    "for label in label_distribution.index:\n",
    "    count = label_distribution.loc[label, 'count']\n",
    "    # get from selected_artificial_data the sentences with the label\n",
    "    selected_sentences = [item for item in artificial_data_selected if label in item['labels']]\n",
    "    random_sentences = random.sample(selected_sentences, count)\n",
    "    artificial['sentence'].extend([data['augmented_sentence'] for data in random_sentences])\n",
    "    artificial['labels'].extend([data['labels'] for data in random_sentences])\n",
    "\n",
    "for data in artificial_data_selected:\n",
    "    if len(data['labels']) == 0:\n",
    "        artificial['sentence'].append(data['augmented_sentence'])\n",
    "        artificial['labels'].append(data['labels'])\n"
   ]
  },
  {
   "cell_type": "code",
   "execution_count": null,
   "metadata": {},
   "outputs": [],
   "source": [
    "artificial_df = pd.DataFrame(artificial)\n",
    "artificial_df.drop_duplicates(subset=['sentence'], inplace=True)\n",
    "artificial_df"
   ]
  },
  {
   "cell_type": "code",
   "execution_count": null,
   "metadata": {},
   "outputs": [],
   "source": [
    "augmented_df = pd.concat([df_train, artificial_df], ignore_index=True)\n",
    "augmented_df.reset_index(drop=True, inplace=True)\n",
    "augmented_df"
   ]
  },
  {
   "cell_type": "code",
   "execution_count": null,
   "metadata": {},
   "outputs": [],
   "source": [
    "augmented_df['doc_title'].fillna('artificial_data', inplace=True)"
   ]
  },
  {
   "cell_type": "code",
   "execution_count": null,
   "metadata": {},
   "outputs": [],
   "source": [
    "# Shuffle the dataframe\n",
    "augmented_df_shuffled = augmented_df.sample(frac=1, random_state=random_state).reset_index(drop=True)\n",
    "\n",
    "# Save to JSON file\n",
    "augmented_df_shuffled.to_json(\"datasets/tram_train_augmented_artificial.json\")"
   ]
  },
  {
   "cell_type": "markdown",
   "metadata": {},
   "source": [
    "## Tram OOD "
   ]
  },
  {
   "cell_type": "code",
   "execution_count": null,
   "metadata": {},
   "outputs": [],
   "source": [
    "from mitreattack.stix20 import MitreAttackData\n",
    "from loader import load_model_for_embedding\n",
    "from const import MODEL_SENTENCE_SIM\n",
    "from tqdm import tqdm\n",
    "import pickle"
   ]
  },
  {
   "cell_type": "code",
   "execution_count": null,
   "metadata": {},
   "outputs": [],
   "source": [
    "available_ttps = tram_df.explode('labels').labels.unique().tolist()\n",
    "available_ttps"
   ]
  },
  {
   "cell_type": "code",
   "execution_count": null,
   "metadata": {},
   "outputs": [],
   "source": [
    "import markdown\n",
    "from bs4 import BeautifulSoup\n",
    "\n",
    "def clean_md(md_content):\n",
    "    html_content = markdown.markdown(md_content)\n",
    "    soup = BeautifulSoup(html_content, 'html.parser')\n",
    "    text_content = soup.get_text()\n",
    "    return text_content\n",
    "\n",
    "\n",
    "mitre_attack_data = MitreAttackData(\"datasets/enterprise-attack.json\")\n",
    "techniques = mitre_attack_data.get_techniques(remove_revoked_deprecated=True)\n",
    "print(f\"Retrieved {len(techniques)} ATT&CK techniques ...\")\n",
    "ttps = []\n",
    "models = {}\n",
    "\n",
    "ood_data = {\n",
    "    \"sentence\": [],\n",
    "    \"labels\": []\n",
    "}\n",
    "\n",
    "for t in techniques:\n",
    "    ttp_id = mitre_attack_data.get_attack_id(t[\"id\"])\n",
    "    if ttp_id in available_ttps:\n",
    "        groups = mitre_attack_data.get_groups_using_technique(t[\"id\"])\n",
    "        group_relationships = [g[\"relationships\"] for g in groups]\n",
    "        group_relationships_flat = [item for sublist in group_relationships for item in sublist]\n",
    "        groups_procedures = [clean_md(g.description).split(\"(Citation:\")[0] for g in group_relationships_flat if g.relationship_type == \"uses\"]\n",
    "        ood_data['sentence'].extend(groups_procedures)\n",
    "        for g in groups_procedures:\n",
    "            ood_data['labels'].extend([[ttp_id]])\n",
    "\n",
    "        software = mitre_attack_data.get_software_using_technique(t[\"id\"])\n",
    "        software_relationships = [s[\"relationships\"] for s in software]\n",
    "        software_relationships_flat = [item for sublist in software_relationships for item in sublist]\n",
    "        software_procedures = [clean_md(s.description).split(\"(Citation:\")[0] for s in software_relationships_flat if s.relationship_type == \"uses\"]\n",
    "        ood_data['sentence'].extend(software_procedures)\n",
    "        for s in software_procedures:\n",
    "            ood_data['labels'].extend([[ttp_id]])\n",
    "        print(ttp_id, len(group_relationships), len(software_relationships))\n",
    "        "
   ]
  },
  {
   "cell_type": "code",
   "execution_count": null,
   "metadata": {},
   "outputs": [],
   "source": [
    "df_train.shape, pd.DataFrame(ood_data).shape"
   ]
  },
  {
   "cell_type": "code",
   "execution_count": null,
   "metadata": {},
   "outputs": [],
   "source": [
    "ood_data_df = pd.DataFrame(ood_data) \n",
    "#ood_data_df.drop_duplicates(subset=['sentence'], inplace=True)\n",
    "ood_data_df[ood_data_df.duplicated(subset=['sentence'])]"
   ]
  },
  {
   "cell_type": "code",
   "execution_count": null,
   "metadata": {},
   "outputs": [],
   "source": [
    "import random\n",
    "\n",
    "selected_ood_data = {\n",
    "    \"sentence\": [],\n",
    "    \"labels\": []\n",
    "}\n",
    "\n",
    "for label, count in label_counts.items():\n",
    "    # Get sentences from ood_data_df that contain the label\n",
    "    sentences_with_label = ood_data_df[ood_data_df['labels'].apply(lambda x: label in x)]\n",
    "    \n",
    "    # Select at most 'count' random sentences\n",
    "    selected_sentences = sentences_with_label.sample(min(count, len(sentences_with_label)), random_state=random_state)\n",
    "    \n",
    "    # Append the selected sentences and their labels to the selected_ood_data dictionary\n",
    "    selected_ood_data[\"sentence\"].extend(selected_sentences[\"sentence\"].tolist())\n",
    "    selected_ood_data[\"labels\"].extend(selected_sentences[\"labels\"].tolist())\n",
    "\n",
    "selected_ood_data_df = pd.DataFrame(selected_ood_data)\n",
    "selected_ood_data_df"
   ]
  },
  {
   "cell_type": "code",
   "execution_count": null,
   "metadata": {},
   "outputs": [],
   "source": [
    "# Group by 'sentence' and aggregate 'labels' into a list\n",
    "merged_ood_data_df = ood_data_df.groupby('sentence')['labels'].apply(lambda x: list(set([label for sublist in x for label in sublist]))).reset_index()\n",
    "\n",
    "# Rename the columns to match the original DataFrame\n",
    "merged_ood_data_df.columns = ['sentence', 'labels']\n",
    "\n",
    "merged_ood_data_df"
   ]
  },
  {
   "cell_type": "code",
   "execution_count": null,
   "metadata": {},
   "outputs": [],
   "source": [
    "merged_ood_data_df.to_csv(\"datasets/ood_data.csv\", index=False)"
   ]
  },
  {
   "cell_type": "code",
   "execution_count": null,
   "metadata": {},
   "outputs": [],
   "source": [
    "augmented_ood_df = pd.concat([df_train, merged_ood_data_df], ignore_index=True)\n",
    "augmented_ood_df.reset_index(drop=True, inplace=True)\n",
    "augmented_df_shuffled = augmented_ood_df.sample(frac=1, random_state=random_state).reset_index(drop=True)\n",
    "augmented_df_shuffled['doc_title'].fillna('ood_data', inplace=True)\n",
    "augmented_df_shuffled"
   ]
  },
  {
   "cell_type": "code",
   "execution_count": null,
   "metadata": {},
   "outputs": [],
   "source": [
    "augmented_df_shuffled.to_json(\"datasets/tram_train_augmented_ood.json\")"
   ]
  }
 ],
 "metadata": {
  "kernelspec": {
   "display_name": ".venv",
   "language": "python",
   "name": "python3"
  },
  "language_info": {
   "codemirror_mode": {
    "name": "ipython",
    "version": 3
   },
   "file_extension": ".py",
   "mimetype": "text/x-python",
   "name": "python",
   "nbconvert_exporter": "python",
   "pygments_lexer": "ipython3",
   "version": "3.10.12"
  }
 },
 "nbformat": 4,
 "nbformat_minor": 2
}
